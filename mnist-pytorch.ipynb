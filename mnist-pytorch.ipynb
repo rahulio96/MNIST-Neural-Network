{
 "cells": [
  {
   "cell_type": "code",
   "execution_count": 1,
   "metadata": {},
   "outputs": [],
   "source": [
    "import torch\n",
    "import torch.nn as nn\n",
    "import torch.nn.functional as F\n",
    "\n",
    "import pandas as pd\n",
    "import numpy as np"
   ]
  },
  {
   "cell_type": "code",
   "execution_count": 2,
   "metadata": {},
   "outputs": [],
   "source": [
    "from sklearn.model_selection import train_test_split\n",
    "\n",
    "mnist_df = pd.read_csv('./data/train.csv')\n",
    "\n",
    "X = mnist_df.drop('label', axis=1).to_numpy()\n",
    "y = mnist_df['label'].to_numpy()\n",
    "\n",
    "X_train, X_test, y_train, y_test = train_test_split(X, y, random_state=42, test_size=0.2, shuffle=True)"
   ]
  },
  {
   "cell_type": "code",
   "execution_count": 3,
   "metadata": {},
   "outputs": [],
   "source": [
    "class Model(nn.Module):\n",
    "    def __init__(self, in_layer=784, hid1_layer=800, hid2_layer=130, hid3_layer=80, out_layer=10):\n",
    "        super().__init__()\n",
    "        self.fc1 = nn.Linear(in_layer, hid1_layer)\n",
    "        self.fc2 = nn.Linear(hid1_layer, hid2_layer)\n",
    "        self.fc3 = nn.Linear(hid2_layer, hid3_layer)\n",
    "        self.out = nn.Linear(hid3_layer, out_layer)\n",
    "    \n",
    "    def forward(self, x):\n",
    "        x = F.relu(self.fc1(x))\n",
    "        x = F.relu(self.fc2(x))\n",
    "        x = F.relu(self.fc3(x))\n",
    "        x = self.out(x)\n",
    "        \n",
    "        return x"
   ]
  },
  {
   "cell_type": "code",
   "execution_count": 4,
   "metadata": {},
   "outputs": [],
   "source": [
    "model = Model()"
   ]
  },
  {
   "cell_type": "code",
   "execution_count": 5,
   "metadata": {},
   "outputs": [],
   "source": [
    "X_train = torch.FloatTensor(X_train)\n",
    "X_test = torch.FloatTensor(X_test)\n",
    "\n",
    "y_train = torch.LongTensor(y_train)\n",
    "y_test = torch.LongTensor(y_test)\n",
    "\n",
    "criterion = nn.CrossEntropyLoss()\n",
    "optimizer = torch.optim.Adagrad(model.parameters(), lr=0.01)"
   ]
  },
  {
   "cell_type": "code",
   "execution_count": 6,
   "metadata": {},
   "outputs": [
    {
     "name": "stdout",
     "output_type": "stream",
     "text": [
      "Epoch 0: loss = 3.839850902557373\n",
      "Epoch 10: loss = 1.282694935798645\n",
      "Epoch 20: loss = 0.5058520436286926\n",
      "Epoch 30: loss = 0.3357040584087372\n",
      "Epoch 40: loss = 0.2585846185684204\n",
      "Epoch 50: loss = 0.21575558185577393\n",
      "Epoch 60: loss = 0.17747221887111664\n",
      "Epoch 70: loss = 0.15162509679794312\n",
      "Epoch 80: loss = 0.1427585780620575\n",
      "Epoch 90: loss = 0.11449610441923141\n",
      "Epoch 100: loss = 0.1097167581319809\n",
      "Epoch 110: loss = 0.09946023672819138\n",
      "Epoch 120: loss = 0.08987051993608475\n"
     ]
    }
   ],
   "source": [
    "epochs = 130\n",
    "losses = []\n",
    "\n",
    "for i in range(epochs):\n",
    "    # Forward propagation\n",
    "    y_pred = model.forward(X_train)\n",
    "\n",
    "    # Measure loss\n",
    "    loss = criterion(y_pred, y_train)\n",
    "\n",
    "    # Keep track of losses\n",
    "    losses.append(loss.detach().numpy())\n",
    "\n",
    "    # Print every 10 epochs\n",
    "    if i % 10 == 0:\n",
    "        print(f'Epoch {i}: loss = {loss}')\n",
    "\n",
    "    \n",
    "    # Back propagation\n",
    "    optimizer.zero_grad()\n",
    "    loss.backward()\n",
    "    optimizer.step()\n"
   ]
  },
  {
   "cell_type": "code",
   "execution_count": 7,
   "metadata": {},
   "outputs": [
    {
     "data": {
      "text/plain": [
       "Text(0, 0.5, 'Loss')"
      ]
     },
     "execution_count": 7,
     "metadata": {},
     "output_type": "execute_result"
    },
    {
     "data": {
      "image/png": "[encoded data removed]",
      "text/plain": [
       "<Figure size 640x480 with 1 Axes>"
      ]
     },
     "metadata": {},
     "output_type": "display_data"
    }
   ],
   "source": [
    "import matplotlib.pyplot as plt\n",
    "\n",
    "plt.plot(range(epochs), losses)\n",
    "plt.title('Cross Entropy Graph')\n",
    "plt.xlabel('Epochs')\n",
    "plt.ylabel('Loss')"
   ]
  },
  {
   "cell_type": "code",
   "execution_count": 8,
   "metadata": {},
   "outputs": [
    {
     "name": "stdout",
     "output_type": "stream",
     "text": [
      "0.15377797186374664\n"
     ]
    }
   ],
   "source": [
    "with torch.no_grad():\n",
    "    y_eval = model.forward(X_test)\n",
    "    loss = criterion(y_eval, y_test) # get loss/error of y_eval\n",
    "\n",
    "print(float(loss))"
   ]
  },
  {
   "cell_type": "code",
   "execution_count": 9,
   "metadata": {},
   "outputs": [
    {
     "name": "stdout",
     "output_type": "stream",
     "text": [
      "Accuracy: 95.57%\n"
     ]
    }
   ],
   "source": [
    "correct = 0\n",
    "with torch.no_grad():\n",
    "    for i, data in enumerate(X_test):\n",
    "        y_val = model.forward(data)\n",
    "\n",
    "        if (torch.argmax(y_val) == y_test[i]):\n",
    "            correct +=  1\n",
    "\n",
    "print(f'Accuracy: {(correct/len(y_test)) * 100:.2f}%')"
   ]
  }
 ],
 "metadata": {
  "kernelspec": {
   "display_name": "Python 3",
   "language": "python",
   "name": "python3"
  },
  "language_info": {
   "codemirror_mode": {
    "name": "ipython",
    "version": 3
   },
   "file_extension": ".py",
   "mimetype": "text/x-python",
   "name": "python",
   "nbconvert_exporter": "python",
   "pygments_lexer": "ipython3",
   "version": "3.10.6"
  }
 },
 "nbformat": 4,
 "nbformat_minor": 2
}
