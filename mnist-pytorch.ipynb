{
 "cells": [
  {
   "cell_type": "code",
   "execution_count": 1,
   "metadata": {},
   "outputs": [],
   "source": [
    "import torch\n",
    "import torch.nn as nn\n",
    "import torch.nn.functional as F\n",
    "\n",
    "import pandas as pd\n",
    "\n",
    "from sklearn.model_selection import train_test_split\n",
    "\n",
    "import matplotlib.pyplot as plt"
   ]
  },
  {
   "cell_type": "code",
   "execution_count": 2,
   "metadata": {},
   "outputs": [],
   "source": [
    "mnist_df = pd.read_csv('./data/mnist.csv')\n",
    "\n",
    "X = mnist_df.drop('label', axis=1).to_numpy()\n",
    "y = mnist_df['label'].to_numpy()\n",
    "\n",
    "X_train, X_test, y_train, y_test = train_test_split(X, y, random_state=42, test_size=0.2, shuffle=True)"
   ]
  },
  {
   "cell_type": "code",
   "execution_count": 3,
   "metadata": {},
   "outputs": [],
   "source": [
    "class MNIST_Neural_Network(nn.Module):\n",
    "    def __init__(self, in_layer=784, hid_layer1=800, hid_layer2=130, hid_layer3=80, out_layer=10):\n",
    "        super().__init__()\n",
    "        self.w1 = nn.Linear(in_layer, hid_layer1)\n",
    "        self.w2 = nn.Linear(hid_layer1, hid_layer2)\n",
    "        self.w3 = nn.Linear(hid_layer2, hid_layer3)\n",
    "        self.out = nn.Linear(hid_layer3, out_layer)\n",
    "    \n",
    "    def forward(self, x):\n",
    "        x = F.relu(self.w1(x))\n",
    "        x = F.relu(self.w2(x))\n",
    "        x = F.relu(self.w3(x))\n",
    "        x = self.out(x)\n",
    "        \n",
    "        return x"
   ]
  },
  {
   "cell_type": "code",
   "execution_count": 4,
   "metadata": {},
   "outputs": [],
   "source": [
    "mnist_model = MNIST_Neural_Network()"
   ]
  },
  {
   "cell_type": "code",
   "execution_count": 5,
   "metadata": {},
   "outputs": [],
   "source": [
    "X_train = torch.FloatTensor(X_train)\n",
    "X_test = torch.FloatTensor(X_test)\n",
    "\n",
    "y_train = torch.LongTensor(y_train)\n",
    "y_test = torch.LongTensor(y_test)\n",
    "\n",
    "criterion = nn.CrossEntropyLoss()\n",
    "optimizer = torch.optim.Adagrad(mnist_model.parameters(), lr=0.01)"
   ]
  },
  {
   "cell_type": "code",
   "execution_count": 6,
   "metadata": {},
   "outputs": [
    {
     "name": "stdout",
     "output_type": "stream",
     "text": [
      "Epoch 0: loss = 4.277098178863525\n",
      "Epoch 10: loss = 0.9059453010559082\n",
      "Epoch 20: loss = 0.4681602716445923\n",
      "Epoch 30: loss = 0.3354118764400482\n",
      "Epoch 40: loss = 0.4302043616771698\n",
      "Epoch 50: loss = 0.19140669703483582\n",
      "Epoch 60: loss = 0.16295543313026428\n",
      "Epoch 70: loss = 0.1709001660346985\n",
      "Epoch 80: loss = 0.12052956223487854\n",
      "Epoch 90: loss = 0.11956694722175598\n",
      "Epoch 100: loss = 0.0962497740983963\n",
      "Epoch 110: loss = 0.08811569958925247\n",
      "Epoch 120: loss = 0.07400700449943542\n"
     ]
    }
   ],
   "source": [
    "epochs = 130\n",
    "losses = []\n",
    "\n",
    "for i in range(epochs):\n",
    "    # Forward propagation\n",
    "    y_pred = mnist_model.forward(X_train)\n",
    "\n",
    "    # Measure loss\n",
    "    loss = criterion(y_pred, y_train)\n",
    "\n",
    "    # Keep track of losses\n",
    "    losses.append(loss.detach().numpy())\n",
    "\n",
    "    # Print every 10 epochs\n",
    "    if i % 10 == 0:\n",
    "        print(f'Epoch {i}: loss = {loss}')\n",
    "\n",
    "    \n",
    "    # Back propagation\n",
    "    optimizer.zero_grad()\n",
    "    loss.backward()\n",
    "    optimizer.step()\n"
   ]
  },
  {
   "cell_type": "code",
   "execution_count": 7,
   "metadata": {},
   "outputs": [
    {
     "data": {
      "text/plain": [
       "Text(0, 0.5, 'Loss')"
      ]
     },
     "execution_count": 7,
     "metadata": {},
     "output_type": "execute_result"
    },
    {
     "data": {
      "image/png": "[encoded data removed]",
      "text/plain": [
       "<Figure size 640x480 with 1 Axes>"
      ]
     },
     "metadata": {},
     "output_type": "display_data"
    }
   ],
   "source": [
    "plt.plot(range(epochs), losses)\n",
    "plt.title('Cross Entropy Graph')\n",
    "plt.xlabel('Epochs')\n",
    "plt.ylabel('Loss')"
   ]
  },
  {
   "cell_type": "code",
   "execution_count": 8,
   "metadata": {},
   "outputs": [
    {
     "name": "stdout",
     "output_type": "stream",
     "text": [
      "0.1359475553035736\n"
     ]
    }
   ],
   "source": [
    "with torch.no_grad():\n",
    "    y_eval = mnist_model.forward(X_test)\n",
    "    loss = criterion(y_eval, y_test) # get loss/error of y_eval\n",
    "\n",
    "print(float(loss))"
   ]
  },
  {
   "cell_type": "code",
   "execution_count": 9,
   "metadata": {},
   "outputs": [],
   "source": [
    "def test_mnist(X_data, y_data):\n",
    "    correct = 0\n",
    "    with torch.no_grad():\n",
    "        for i, data in enumerate(X_data):\n",
    "            y_val = mnist_model.forward(data)\n",
    "\n",
    "            if (torch.argmax(y_val) == y_data[i]):\n",
    "                correct +=  1\n",
    "\n",
    "    return (correct/len(y_data)) * 100"
   ]
  },
  {
   "cell_type": "code",
   "execution_count": 10,
   "metadata": {},
   "outputs": [
    {
     "name": "stdout",
     "output_type": "stream",
     "text": [
      "Training Data Accuracy:\t 97.97%\n",
      "Test Data Accuracy:\t 95.95%\n"
     ]
    }
   ],
   "source": [
    "print(f'Training Data Accuracy:\\t {test_mnist(X_train, y_train):.2f}%')\n",
    "print(f'Test Data Accuracy:\\t {test_mnist(X_test, y_test):.2f}%')"
   ]
  }
 ],
 "metadata": {
  "kernelspec": {
   "display_name": "Python 3",
   "language": "python",
   "name": "python3"
  },
  "language_info": {
   "codemirror_mode": {
    "name": "ipython",
    "version": 3
   },
   "file_extension": ".py",
   "mimetype": "text/x-python",
   "name": "python",
   "nbconvert_exporter": "python",
   "pygments_lexer": "ipython3",
   "version": "3.10.6"
  }
 },
 "nbformat": 4,
 "nbformat_minor": 2
}
