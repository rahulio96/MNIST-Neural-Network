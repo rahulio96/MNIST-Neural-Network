{
 "cells": [
  {
   "cell_type": "markdown",
   "metadata": {},
   "source": [
    "# MNIST Neural Network\n",
    "Around a year ago, I tried making a neural network to identify handwritten digits using mostly raw python. \n",
    "\n",
    "This time, I wanted to tackle the problem again with newfound knowledge of data science from a university course I took (CSC 177) alongside using PyTorch."
   ]
  },
  {
   "cell_type": "markdown",
   "metadata": {},
   "source": [
    "First we'll need to import various libraries with their functions. For this project, I'm using PyTorch, Pandas, Sklearn, and Matplotlib."
   ]
  },
  {
   "cell_type": "code",
   "execution_count": 1,
   "metadata": {},
   "outputs": [],
   "source": [
    "import torch\n",
    "import torch.nn as nn\n",
    "import torch.nn.functional as F\n",
    "\n",
    "import pandas as pd\n",
    "\n",
    "from sklearn.model_selection import train_test_split\n",
    "from sklearn import preprocessing\n",
    "\n",
    "import matplotlib.pyplot as plt"
   ]
  },
  {
   "cell_type": "markdown",
   "metadata": {},
   "source": [
    "## Splitting and Preprocessing\n",
    "Afterwards, we'll need to split the data into a training and validation set with an 80% training, 20% validation split.\n",
    "\n",
    "For preprocessing, the dataset has no missing values, but we can instead normalize the data using min max scaling. It does not make sense to use something like standardization, so we instead use min max scaling to help the neural network avoid large weights and ensuring a consistent scale."
   ]
  },
  {
   "cell_type": "code",
   "execution_count": 2,
   "metadata": {},
   "outputs": [],
   "source": [
    "mnist_df = pd.read_csv('./data/mnist.csv')\n",
    "\n",
    "X = mnist_df.drop('label', axis=1).to_numpy()\n",
    "y = mnist_df['label'].to_numpy()\n",
    "\n",
    "X_train, X_test, y_train, y_test = train_test_split(X, y, random_state=42, test_size=0.2, shuffle=True)\n",
    "\n",
    "normalizer = preprocessing.MinMaxScaler()\n",
    "X_train = normalizer.fit_transform(X_train)\n",
    "X_test = normalizer.transform(X_test)"
   ]
  },
  {
   "cell_type": "markdown",
   "metadata": {},
   "source": [
    "## Neural Network\n",
    "We'll make a neural network class and instantiate it. In the class constructor, we outline the structure of the neural network, which consists of 1 input layer, 3 hidden layers, and 1 output layer. The input layer has 784 neurons, since the training data consists of images that are 28x28 pixels. The hidden layers have 800, 130, and 80 neurons respectively. I got these numbers by tweaking them over time by measuring the accuracy and loss. Finally, the output layer has only 10 neurons, since there are only 10 digits that can be classified."
   ]
  },
  {
   "cell_type": "code",
   "execution_count": 3,
   "metadata": {},
   "outputs": [],
   "source": [
    "class MNIST_Neural_Network(nn.Module):\n",
    "    def __init__(self, in_layer=784, hid_layer1=800, hid_layer2=130, hid_layer3=80, out_layer=10):\n",
    "        super().__init__()\n",
    "        self.w1 = nn.Linear(in_layer, hid_layer1)\n",
    "        self.w2 = nn.Linear(hid_layer1, hid_layer2)\n",
    "        self.w3 = nn.Linear(hid_layer2, hid_layer3)\n",
    "        self.out = nn.Linear(hid_layer3, out_layer)\n",
    "    \n",
    "    def forward(self, x):\n",
    "        x = F.relu(self.w1(x))\n",
    "        x = F.relu(self.w2(x))\n",
    "        x = F.relu(self.w3(x))\n",
    "        x = self.out(x)\n",
    "        \n",
    "        return x"
   ]
  },
  {
   "cell_type": "code",
   "execution_count": 4,
   "metadata": {},
   "outputs": [],
   "source": [
    "mnist_model = MNIST_Neural_Network()"
   ]
  },
  {
   "cell_type": "markdown",
   "metadata": {},
   "source": [
    "## Training\n",
    "Now that the class has been instantiated, it needs to be trained. The training and validation data are converted into tensors. Then we use cross entropy loss for the criterion, which helps compute the gradient. Afterward, we also need to choose an optimizer, so I chose Adam due to its effectiveness and speed."
   ]
  },
  {
   "cell_type": "code",
   "execution_count": 5,
   "metadata": {},
   "outputs": [],
   "source": [
    "X_train = torch.FloatTensor(X_train)\n",
    "X_test = torch.FloatTensor(X_test)\n",
    "\n",
    "y_train = torch.LongTensor(y_train)\n",
    "y_test = torch.LongTensor(y_test)\n",
    "\n",
    "criterion = nn.CrossEntropyLoss()\n",
    "optimizer = torch.optim.Adam(mnist_model.parameters(), lr=0.001)"
   ]
  },
  {
   "cell_type": "markdown",
   "metadata": {},
   "source": [
    "Moving onto the training process, this loop will train the neural network by changing the weights accordingly and calculating the loss."
   ]
  },
  {
   "cell_type": "code",
   "execution_count": 6,
   "metadata": {},
   "outputs": [
    {
     "name": "stdout",
     "output_type": "stream",
     "text": [
      "Epoch 0: loss = 2.3030731678009033\n",
      "Epoch 10: loss = 1.4855445623397827\n",
      "Epoch 20: loss = 0.5343036651611328\n",
      "Epoch 30: loss = 0.3718394339084625\n",
      "Epoch 40: loss = 0.2995918095111847\n",
      "Epoch 50: loss = 0.25421062111854553\n",
      "Epoch 60: loss = 0.22119607031345367\n",
      "Epoch 70: loss = 0.1928628534078598\n",
      "Epoch 80: loss = 0.16768181324005127\n",
      "Epoch 90: loss = 0.14552642405033112\n",
      "Epoch 100: loss = 0.12606169283390045\n",
      "Epoch 110: loss = 0.1088862419128418\n",
      "Epoch 120: loss = 0.093857042491436\n",
      "Epoch 130: loss = 0.08073588460683823\n",
      "Epoch 140: loss = 0.06922584772109985\n",
      "Epoch 150: loss = 0.059156615287065506\n",
      "Epoch 160: loss = 0.05041057616472244\n",
      "Epoch 170: loss = 0.04281732439994812\n",
      "Epoch 180: loss = 0.036157358437776566\n",
      "Epoch 190: loss = 0.030370572581887245\n"
     ]
    }
   ],
   "source": [
    "epochs = 200\n",
    "losses = []\n",
    "\n",
    "for i in range(epochs):\n",
    "    # Forward propagation\n",
    "    y_pred = mnist_model.forward(X_train)\n",
    "\n",
    "    # Measure loss\n",
    "    loss = criterion(y_pred, y_train)\n",
    "\n",
    "    # Keep track of losses\n",
    "    losses.append(loss.detach().numpy())\n",
    "\n",
    "    # Print every 10 epochs\n",
    "    if i % 10 == 0:\n",
    "        print(f'Epoch {i}: loss = {loss}')\n",
    "\n",
    "    \n",
    "    # Back propagation\n",
    "    optimizer.zero_grad()\n",
    "    loss.backward()\n",
    "    optimizer.step()\n"
   ]
  },
  {
   "cell_type": "markdown",
   "metadata": {},
   "source": [
    "Also plotted the losses from the training step to visualize the loss after each epoch."
   ]
  },
  {
   "cell_type": "code",
   "execution_count": 7,
   "metadata": {},
   "outputs": [
    {
     "data": {
      "text/plain": [
       "Text(0, 0.5, 'Loss')"
      ]
     },
     "execution_count": 7,
     "metadata": {},
     "output_type": "execute_result"
    },
    {
     "data": {
      "image/png": "[encoded data removed]",
      "text/plain": [
       "<Figure size 640x480 with 1 Axes>"
      ]
     },
     "metadata": {},
     "output_type": "display_data"
    }
   ],
   "source": [
    "plt.plot(range(epochs), losses)\n",
    "plt.title('Cross Entropy Graph')\n",
    "plt.xlabel('Epochs')\n",
    "plt.ylabel('Loss')"
   ]
  },
  {
   "cell_type": "markdown",
   "metadata": {},
   "source": [
    "## Validation Data\n",
    "After the model has been trained, it's time to apply it to the validation data."
   ]
  },
  {
   "cell_type": "code",
   "execution_count": 8,
   "metadata": {},
   "outputs": [
    {
     "name": "stdout",
     "output_type": "stream",
     "text": [
      "0.10399897396564484\n"
     ]
    }
   ],
   "source": [
    "with torch.no_grad():\n",
    "    y_eval = mnist_model.forward(X_test)\n",
    "    loss = criterion(y_eval, y_test) # get loss/error of y_eval\n",
    "\n",
    "print(float(loss))"
   ]
  },
  {
   "cell_type": "markdown",
   "metadata": {},
   "source": [
    "## Basic Accuracy\n",
    "After observing the loss from the model against validation data, we can move onto measuring the accuracy of both the training and validation data. I included the training data accuracy as another measure of checking for overfitting."
   ]
  },
  {
   "cell_type": "code",
   "execution_count": 9,
   "metadata": {},
   "outputs": [],
   "source": [
    "def test_mnist(X_data, y_data):\n",
    "    correct = 0\n",
    "    with torch.no_grad():\n",
    "        for i, data in enumerate(X_data):\n",
    "            y_val = mnist_model.forward(data)\n",
    "\n",
    "            if (torch.argmax(y_val) == y_data[i]):\n",
    "                correct +=  1\n",
    "\n",
    "    return (correct/len(y_data)) * 100"
   ]
  },
  {
   "cell_type": "code",
   "execution_count": 10,
   "metadata": {},
   "outputs": [
    {
     "name": "stdout",
     "output_type": "stream",
     "text": [
      "Training Data Accuracy:\t 99.49%\n",
      "Test Data Accuracy:\t 96.92%\n"
     ]
    }
   ],
   "source": [
    "print(f'Training Data Accuracy:\\t {test_mnist(X_train, y_train):.2f}%')\n",
    "print(f'Test Data Accuracy:\\t {test_mnist(X_test, y_test):.2f}%')"
   ]
  }
 ],
 "metadata": {
  "kernelspec": {
   "display_name": "Python 3",
   "language": "python",
   "name": "python3"
  },
  "language_info": {
   "codemirror_mode": {
    "name": "ipython",
    "version": 3
   },
   "file_extension": ".py",
   "mimetype": "text/x-python",
   "name": "python",
   "nbconvert_exporter": "python",
   "pygments_lexer": "ipython3",
   "version": "3.10.6"
  }
 },
 "nbformat": 4,
 "nbformat_minor": 2
}
